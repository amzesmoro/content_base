{
  "nbformat": 4,
  "nbformat_minor": 0,
  "metadata": {
    "colab": {
      "name": "Proyek PBA - YouTube Recommender System.ipynb",
      "provenance": [],
      "collapsed_sections": [],
      "include_colab_link": true
    },
    "kernelspec": {
      "name": "python3",
      "display_name": "Python 3"
    }
  },
  "cells": [
    {
      "cell_type": "markdown",
      "metadata": {
        "id": "view-in-github",
        "colab_type": "text"
      },
      "source": [
        "<a href=\"https://colab.research.google.com/github/amzesmoro/content_base/blob/master/Proyek_PBA_YouTube_Recommender_System.ipynb\" target=\"_parent\"><img src=\"https://colab.research.google.com/assets/colab-badge.svg\" alt=\"Open In Colab\"/></a>"
      ]
    },
    {
      "cell_type": "markdown",
      "metadata": {
        "id": "k4wyNrcsI1_t",
        "colab_type": "text"
      },
      "source": [
        "## **Proyek PBA. Kelompok 2 - Youtube Recommender System**"
      ]
    },
    {
      "cell_type": "markdown",
      "metadata": {
        "id": "flKzTf7TLAHh",
        "colab_type": "text"
      },
      "source": [
        "## **Load Data**\n"
      ]
    },
    {
      "cell_type": "code",
      "metadata": {
        "id": "EY15GuCFGOxg",
        "colab_type": "code",
        "colab": {}
      },
      "source": [
        "!pip install -U -q PyDrive\n",
        "\n",
        "from pydrive.auth import GoogleAuth\n",
        "from pydrive.drive import GoogleDrive\n",
        "from google.colab import auth\n",
        "from oauth2client.client import GoogleCredentials\n",
        "\n",
        "# Authenticate and create the PyDrive client\n",
        "auth.authenticate_user()\n",
        "gauth = GoogleAuth()\n",
        "gauth.credentials = GoogleCredentials.get_application_default()\n",
        "drive = GoogleDrive(gauth)"
      ],
      "execution_count": 0,
      "outputs": []
    },
    {
      "cell_type": "markdown",
      "metadata": {
        "id": "ERYgss9zEN3t",
        "colab_type": "text"
      },
      "source": [
        "**Check Files on Drive**"
      ]
    },
    {
      "cell_type": "code",
      "metadata": {
        "id": "4M4BwHvdIGv1",
        "colab_type": "code",
        "outputId": "aca461da-c816-4f00-9a0d-14a8c7c604e3",
        "colab": {
          "base_uri": "https://localhost:8080/",
          "height": 123
        }
      },
      "source": [
        "file_list = drive.ListFile({'q': \"'1dMlcirgEfFW6_0tGe21MyT4bwHuoL3Ba' in parents and trashed=false\"}).GetList()\n",
        "for data_file in file_list:\n",
        "  print('title: %s, id: %s' % (data_file['title'], data_file['id']))"
      ],
      "execution_count": 2,
      "outputs": [
        {
          "output_type": "stream",
          "text": [
            "title: us_category.csv, id: 1CXOXm7gkOt3aWdih1nbITFZSz7nKyxW5\n",
            "title: gb_category.csv, id: 1eHeKD1eVIfZyUL175u0jhXC-mSOa3e7x\n",
            "title: US_category_id.json, id: 1Tc77q9L_7FQFMY5FW2nhdEGcfAxd3dCo\n",
            "title: GB_category_id.json, id: 1OXbhBVdDLjBmsL2hov-5Sl5Ljrks4mv7\n",
            "title: USvideos.csv, id: 1DPxy5cEjvxeVqVQXOVEEWAR60PwOwzAo\n",
            "title: GBvideos.csv, id: 1EORpXxrwN63P_9Mo3nDl8W-WrMp1gATQ\n"
          ],
          "name": "stdout"
        }
      ]
    },
    {
      "cell_type": "markdown",
      "metadata": {
        "id": "RW95WVPqqMM_",
        "colab_type": "text"
      },
      "source": [
        "**Read Data From GDrive**"
      ]
    },
    {
      "cell_type": "code",
      "metadata": {
        "id": "q2NOsGjkKMcO",
        "colab_type": "code",
        "colab": {}
      },
      "source": [
        "data_us = drive.CreateFile({'id': '1DPxy5cEjvxeVqVQXOVEEWAR60PwOwzAo'})\n",
        "data_us.GetContentFile('USvideos.csv')\n",
        "data_us_category_json = drive.CreateFile({'id': '1Tc77q9L_7FQFMY5FW2nhdEGcfAxd3dCo'})\n",
        "data_us_category_json.GetContentFile('US_category_id.json')\n",
        "data_gb = drive.CreateFile({'id': '1EORpXxrwN63P_9Mo3nDl8W-WrMp1gATQ'})\n",
        "data_gb.GetContentFile('GBvideos.csv')\n",
        "data_gb_category_json = drive.CreateFile({'id': '1OXbhBVdDLjBmsL2hov-5Sl5Ljrks4mv7'})\n",
        "data_gb_category_json.GetContentFile('GB_category_id.json')\n",
        "data_us_category = drive.CreateFile({'id': '1CXOXm7gkOt3aWdih1nbITFZSz7nKyxW5'})\n",
        "data_us_category.GetContentFile('us_category.csv')\n",
        "data_gb_category = drive.CreateFile({'id': '1eHeKD1eVIfZyUL175u0jhXC-mSOa3e7x'})\n",
        "data_gb_category.GetContentFile('gb_category.csv')"
      ],
      "execution_count": 0,
      "outputs": []
    },
    {
      "cell_type": "code",
      "metadata": {
        "id": "yROXOJbuq6lA",
        "colab_type": "code",
        "colab": {}
      },
      "source": [
        "import numpy as np\n",
        "import json  \n",
        "import pandas as pd\n",
        "from pandas.io.json import json_normalize"
      ],
      "execution_count": 0,
      "outputs": []
    },
    {
      "cell_type": "markdown",
      "metadata": {
        "id": "SJ4WwR_sq9CQ",
        "colab_type": "text"
      },
      "source": [
        "**Read Dataset USVideos**"
      ]
    },
    {
      "cell_type": "code",
      "metadata": {
        "id": "_UYVfnvBLQdY",
        "colab_type": "code",
        "outputId": "250135a1-16ff-4d70-b9ea-86f7328fe483",
        "colab": {
          "base_uri": "https://localhost:8080/",
          "height": 501
        }
      },
      "source": [
        "df_us = pd.read_csv('USvideos.csv')\n",
        "df_us['country'] = 'USA'\n",
        "df_us.head()"
      ],
      "execution_count": 5,
      "outputs": [
        {
          "output_type": "execute_result",
          "data": {
            "text/html": [
              "<div>\n",
              "<style scoped>\n",
              "    .dataframe tbody tr th:only-of-type {\n",
              "        vertical-align: middle;\n",
              "    }\n",
              "\n",
              "    .dataframe tbody tr th {\n",
              "        vertical-align: top;\n",
              "    }\n",
              "\n",
              "    .dataframe thead th {\n",
              "        text-align: right;\n",
              "    }\n",
              "</style>\n",
              "<table border=\"1\" class=\"dataframe\">\n",
              "  <thead>\n",
              "    <tr style=\"text-align: right;\">\n",
              "      <th></th>\n",
              "      <th>video_id</th>\n",
              "      <th>trending_date</th>\n",
              "      <th>title</th>\n",
              "      <th>channel_title</th>\n",
              "      <th>category_id</th>\n",
              "      <th>publish_time</th>\n",
              "      <th>tags</th>\n",
              "      <th>views</th>\n",
              "      <th>likes</th>\n",
              "      <th>dislikes</th>\n",
              "      <th>comment_count</th>\n",
              "      <th>thumbnail_link</th>\n",
              "      <th>comments_disabled</th>\n",
              "      <th>ratings_disabled</th>\n",
              "      <th>video_error_or_removed</th>\n",
              "      <th>description</th>\n",
              "      <th>country</th>\n",
              "    </tr>\n",
              "  </thead>\n",
              "  <tbody>\n",
              "    <tr>\n",
              "      <th>0</th>\n",
              "      <td>2kyS6SvSYSE</td>\n",
              "      <td>17.14.11</td>\n",
              "      <td>WE WANT TO TALK ABOUT OUR MARRIAGE</td>\n",
              "      <td>CaseyNeistat</td>\n",
              "      <td>22</td>\n",
              "      <td>2017-11-13T17:13:01.000Z</td>\n",
              "      <td>SHANtell martin</td>\n",
              "      <td>748374</td>\n",
              "      <td>57527</td>\n",
              "      <td>2966</td>\n",
              "      <td>15954</td>\n",
              "      <td>https://i.ytimg.com/vi/2kyS6SvSYSE/default.jpg</td>\n",
              "      <td>False</td>\n",
              "      <td>False</td>\n",
              "      <td>False</td>\n",
              "      <td>SHANTELL'S CHANNEL - https://www.youtube.com/s...</td>\n",
              "      <td>USA</td>\n",
              "    </tr>\n",
              "    <tr>\n",
              "      <th>1</th>\n",
              "      <td>1ZAPwfrtAFY</td>\n",
              "      <td>17.14.11</td>\n",
              "      <td>The Trump Presidency: Last Week Tonight with J...</td>\n",
              "      <td>LastWeekTonight</td>\n",
              "      <td>24</td>\n",
              "      <td>2017-11-13T07:30:00.000Z</td>\n",
              "      <td>last week tonight trump presidency|\"last week ...</td>\n",
              "      <td>2418783</td>\n",
              "      <td>97185</td>\n",
              "      <td>6146</td>\n",
              "      <td>12703</td>\n",
              "      <td>https://i.ytimg.com/vi/1ZAPwfrtAFY/default.jpg</td>\n",
              "      <td>False</td>\n",
              "      <td>False</td>\n",
              "      <td>False</td>\n",
              "      <td>One year after the presidential election, John...</td>\n",
              "      <td>USA</td>\n",
              "    </tr>\n",
              "    <tr>\n",
              "      <th>2</th>\n",
              "      <td>5qpjK5DgCt4</td>\n",
              "      <td>17.14.11</td>\n",
              "      <td>Racist Superman | Rudy Mancuso, King Bach &amp; Le...</td>\n",
              "      <td>Rudy Mancuso</td>\n",
              "      <td>23</td>\n",
              "      <td>2017-11-12T19:05:24.000Z</td>\n",
              "      <td>racist superman|\"rudy\"|\"mancuso\"|\"king\"|\"bach\"...</td>\n",
              "      <td>3191434</td>\n",
              "      <td>146033</td>\n",
              "      <td>5339</td>\n",
              "      <td>8181</td>\n",
              "      <td>https://i.ytimg.com/vi/5qpjK5DgCt4/default.jpg</td>\n",
              "      <td>False</td>\n",
              "      <td>False</td>\n",
              "      <td>False</td>\n",
              "      <td>WATCH MY PREVIOUS VIDEO ▶ \\n\\nSUBSCRIBE ► http...</td>\n",
              "      <td>USA</td>\n",
              "    </tr>\n",
              "    <tr>\n",
              "      <th>3</th>\n",
              "      <td>puqaWrEC7tY</td>\n",
              "      <td>17.14.11</td>\n",
              "      <td>Nickelback Lyrics: Real or Fake?</td>\n",
              "      <td>Good Mythical Morning</td>\n",
              "      <td>24</td>\n",
              "      <td>2017-11-13T11:00:04.000Z</td>\n",
              "      <td>rhett and link|\"gmm\"|\"good mythical morning\"|\"...</td>\n",
              "      <td>343168</td>\n",
              "      <td>10172</td>\n",
              "      <td>666</td>\n",
              "      <td>2146</td>\n",
              "      <td>https://i.ytimg.com/vi/puqaWrEC7tY/default.jpg</td>\n",
              "      <td>False</td>\n",
              "      <td>False</td>\n",
              "      <td>False</td>\n",
              "      <td>Today we find out if Link is a Nickelback amat...</td>\n",
              "      <td>USA</td>\n",
              "    </tr>\n",
              "    <tr>\n",
              "      <th>4</th>\n",
              "      <td>d380meD0W0M</td>\n",
              "      <td>17.14.11</td>\n",
              "      <td>I Dare You: GOING BALD!?</td>\n",
              "      <td>nigahiga</td>\n",
              "      <td>24</td>\n",
              "      <td>2017-11-12T18:01:41.000Z</td>\n",
              "      <td>ryan|\"higa\"|\"higatv\"|\"nigahiga\"|\"i dare you\"|\"...</td>\n",
              "      <td>2095731</td>\n",
              "      <td>132235</td>\n",
              "      <td>1989</td>\n",
              "      <td>17518</td>\n",
              "      <td>https://i.ytimg.com/vi/d380meD0W0M/default.jpg</td>\n",
              "      <td>False</td>\n",
              "      <td>False</td>\n",
              "      <td>False</td>\n",
              "      <td>I know it's been a while since we did this sho...</td>\n",
              "      <td>USA</td>\n",
              "    </tr>\n",
              "  </tbody>\n",
              "</table>\n",
              "</div>"
            ],
            "text/plain": [
              "      video_id  ... country\n",
              "0  2kyS6SvSYSE  ...     USA\n",
              "1  1ZAPwfrtAFY  ...     USA\n",
              "2  5qpjK5DgCt4  ...     USA\n",
              "3  puqaWrEC7tY  ...     USA\n",
              "4  d380meD0W0M  ...     USA\n",
              "\n",
              "[5 rows x 17 columns]"
            ]
          },
          "metadata": {
            "tags": []
          },
          "execution_count": 5
        }
      ]
    },
    {
      "cell_type": "markdown",
      "metadata": {
        "id": "VCAwUpGvoq-Y",
        "colab_type": "text"
      },
      "source": [
        "**Read JSON from Category of US Dataset**"
      ]
    },
    {
      "cell_type": "code",
      "metadata": {
        "id": "ua_uINayeN5m",
        "colab_type": "code",
        "outputId": "ca002889-d71b-48f6-f856-71c283dced22",
        "colab": {
          "base_uri": "https://localhost:8080/",
          "height": 197
        }
      },
      "source": [
        "with open('US_category_id.json') as df_us_category_id:\n",
        "    us_category = json.load(df_us_category_id)\n",
        "dataframe_us_category = json_normalize(us_category['items'])\n",
        "select_feature_us_category = ['id', 'snippet.title']\n",
        "df_us_category = dataframe_us_category[select_feature_us_category]\n",
        "df_us_category = df_us_category.rename(columns={\"id\":\"category_id\", \"snippet.title\":\"category_title\"})\n",
        "df_us_category.head()"
      ],
      "execution_count": 6,
      "outputs": [
        {
          "output_type": "execute_result",
          "data": {
            "text/html": [
              "<div>\n",
              "<style scoped>\n",
              "    .dataframe tbody tr th:only-of-type {\n",
              "        vertical-align: middle;\n",
              "    }\n",
              "\n",
              "    .dataframe tbody tr th {\n",
              "        vertical-align: top;\n",
              "    }\n",
              "\n",
              "    .dataframe thead th {\n",
              "        text-align: right;\n",
              "    }\n",
              "</style>\n",
              "<table border=\"1\" class=\"dataframe\">\n",
              "  <thead>\n",
              "    <tr style=\"text-align: right;\">\n",
              "      <th></th>\n",
              "      <th>category_id</th>\n",
              "      <th>category_title</th>\n",
              "    </tr>\n",
              "  </thead>\n",
              "  <tbody>\n",
              "    <tr>\n",
              "      <th>0</th>\n",
              "      <td>1</td>\n",
              "      <td>Film &amp; Animation</td>\n",
              "    </tr>\n",
              "    <tr>\n",
              "      <th>1</th>\n",
              "      <td>2</td>\n",
              "      <td>Autos &amp; Vehicles</td>\n",
              "    </tr>\n",
              "    <tr>\n",
              "      <th>2</th>\n",
              "      <td>10</td>\n",
              "      <td>Music</td>\n",
              "    </tr>\n",
              "    <tr>\n",
              "      <th>3</th>\n",
              "      <td>15</td>\n",
              "      <td>Pets &amp; Animals</td>\n",
              "    </tr>\n",
              "    <tr>\n",
              "      <th>4</th>\n",
              "      <td>17</td>\n",
              "      <td>Sports</td>\n",
              "    </tr>\n",
              "  </tbody>\n",
              "</table>\n",
              "</div>"
            ],
            "text/plain": [
              "  category_id    category_title\n",
              "0           1  Film & Animation\n",
              "1           2  Autos & Vehicles\n",
              "2          10             Music\n",
              "3          15    Pets & Animals\n",
              "4          17            Sports"
            ]
          },
          "metadata": {
            "tags": []
          },
          "execution_count": 6
        }
      ]
    },
    {
      "cell_type": "markdown",
      "metadata": {
        "id": "xf5SX0rlrWil",
        "colab_type": "text"
      },
      "source": [
        "**Read Dataset GBVideos**"
      ]
    },
    {
      "cell_type": "code",
      "metadata": {
        "id": "oE91KtodLhPr",
        "colab_type": "code",
        "outputId": "0cf4c83c-30c3-4012-a24f-a185ce95ea9c",
        "colab": {
          "base_uri": "https://localhost:8080/",
          "height": 484
        }
      },
      "source": [
        "df_gb = pd.read_csv('GBvideos.csv')\n",
        "df_gb['country'] = 'Great Britain'\n",
        "df_gb.head()"
      ],
      "execution_count": 7,
      "outputs": [
        {
          "output_type": "execute_result",
          "data": {
            "text/html": [
              "<div>\n",
              "<style scoped>\n",
              "    .dataframe tbody tr th:only-of-type {\n",
              "        vertical-align: middle;\n",
              "    }\n",
              "\n",
              "    .dataframe tbody tr th {\n",
              "        vertical-align: top;\n",
              "    }\n",
              "\n",
              "    .dataframe thead th {\n",
              "        text-align: right;\n",
              "    }\n",
              "</style>\n",
              "<table border=\"1\" class=\"dataframe\">\n",
              "  <thead>\n",
              "    <tr style=\"text-align: right;\">\n",
              "      <th></th>\n",
              "      <th>video_id</th>\n",
              "      <th>trending_date</th>\n",
              "      <th>title</th>\n",
              "      <th>channel_title</th>\n",
              "      <th>category_id</th>\n",
              "      <th>publish_time</th>\n",
              "      <th>tags</th>\n",
              "      <th>views</th>\n",
              "      <th>likes</th>\n",
              "      <th>dislikes</th>\n",
              "      <th>comment_count</th>\n",
              "      <th>thumbnail_link</th>\n",
              "      <th>comments_disabled</th>\n",
              "      <th>ratings_disabled</th>\n",
              "      <th>video_error_or_removed</th>\n",
              "      <th>description</th>\n",
              "      <th>country</th>\n",
              "    </tr>\n",
              "  </thead>\n",
              "  <tbody>\n",
              "    <tr>\n",
              "      <th>0</th>\n",
              "      <td>Jw1Y-zhQURU</td>\n",
              "      <td>17.14.11</td>\n",
              "      <td>John Lewis Christmas Ad 2017 - #MozTheMonster</td>\n",
              "      <td>John Lewis</td>\n",
              "      <td>26</td>\n",
              "      <td>2017-11-10T07:38:29.000Z</td>\n",
              "      <td>christmas|\"john lewis christmas\"|\"john lewis\"|...</td>\n",
              "      <td>7224515</td>\n",
              "      <td>55681</td>\n",
              "      <td>10247</td>\n",
              "      <td>9479</td>\n",
              "      <td>https://i.ytimg.com/vi/Jw1Y-zhQURU/default.jpg</td>\n",
              "      <td>False</td>\n",
              "      <td>False</td>\n",
              "      <td>False</td>\n",
              "      <td>Click here to continue the story and make your...</td>\n",
              "      <td>Great Britain</td>\n",
              "    </tr>\n",
              "    <tr>\n",
              "      <th>1</th>\n",
              "      <td>3s1rvMFUweQ</td>\n",
              "      <td>17.14.11</td>\n",
              "      <td>Taylor Swift: …Ready for It? (Live) - SNL</td>\n",
              "      <td>Saturday Night Live</td>\n",
              "      <td>24</td>\n",
              "      <td>2017-11-12T06:24:44.000Z</td>\n",
              "      <td>SNL|\"Saturday Night Live\"|\"SNL Season 43\"|\"Epi...</td>\n",
              "      <td>1053632</td>\n",
              "      <td>25561</td>\n",
              "      <td>2294</td>\n",
              "      <td>2757</td>\n",
              "      <td>https://i.ytimg.com/vi/3s1rvMFUweQ/default.jpg</td>\n",
              "      <td>False</td>\n",
              "      <td>False</td>\n",
              "      <td>False</td>\n",
              "      <td>Musical guest Taylor Swift performs …Ready for...</td>\n",
              "      <td>Great Britain</td>\n",
              "    </tr>\n",
              "    <tr>\n",
              "      <th>2</th>\n",
              "      <td>n1WpP7iowLc</td>\n",
              "      <td>17.14.11</td>\n",
              "      <td>Eminem - Walk On Water (Audio) ft. Beyoncé</td>\n",
              "      <td>EminemVEVO</td>\n",
              "      <td>10</td>\n",
              "      <td>2017-11-10T17:00:03.000Z</td>\n",
              "      <td>Eminem|\"Walk\"|\"On\"|\"Water\"|\"Aftermath/Shady/In...</td>\n",
              "      <td>17158579</td>\n",
              "      <td>787420</td>\n",
              "      <td>43420</td>\n",
              "      <td>125882</td>\n",
              "      <td>https://i.ytimg.com/vi/n1WpP7iowLc/default.jpg</td>\n",
              "      <td>False</td>\n",
              "      <td>False</td>\n",
              "      <td>False</td>\n",
              "      <td>Eminem's new track Walk on Water ft. Beyoncé i...</td>\n",
              "      <td>Great Britain</td>\n",
              "    </tr>\n",
              "    <tr>\n",
              "      <th>3</th>\n",
              "      <td>PUTEiSjKwJU</td>\n",
              "      <td>17.14.11</td>\n",
              "      <td>Goals from Salford City vs Class of 92 and Fri...</td>\n",
              "      <td>Salford City Football Club</td>\n",
              "      <td>17</td>\n",
              "      <td>2017-11-13T02:30:38.000Z</td>\n",
              "      <td>Salford City FC|\"Salford City\"|\"Salford\"|\"Clas...</td>\n",
              "      <td>27833</td>\n",
              "      <td>193</td>\n",
              "      <td>12</td>\n",
              "      <td>37</td>\n",
              "      <td>https://i.ytimg.com/vi/PUTEiSjKwJU/default.jpg</td>\n",
              "      <td>False</td>\n",
              "      <td>False</td>\n",
              "      <td>False</td>\n",
              "      <td>Salford drew 4-4 against the Class of 92 and F...</td>\n",
              "      <td>Great Britain</td>\n",
              "    </tr>\n",
              "    <tr>\n",
              "      <th>4</th>\n",
              "      <td>rHwDegptbI4</td>\n",
              "      <td>17.14.11</td>\n",
              "      <td>Dashcam captures truck's near miss with child ...</td>\n",
              "      <td>Cute Girl Videos</td>\n",
              "      <td>25</td>\n",
              "      <td>2017-11-13T01:45:13.000Z</td>\n",
              "      <td>[none]</td>\n",
              "      <td>9815</td>\n",
              "      <td>30</td>\n",
              "      <td>2</td>\n",
              "      <td>30</td>\n",
              "      <td>https://i.ytimg.com/vi/rHwDegptbI4/default.jpg</td>\n",
              "      <td>False</td>\n",
              "      <td>False</td>\n",
              "      <td>False</td>\n",
              "      <td>Dashcam captures truck's near miss with child ...</td>\n",
              "      <td>Great Britain</td>\n",
              "    </tr>\n",
              "  </tbody>\n",
              "</table>\n",
              "</div>"
            ],
            "text/plain": [
              "      video_id  ...        country\n",
              "0  Jw1Y-zhQURU  ...  Great Britain\n",
              "1  3s1rvMFUweQ  ...  Great Britain\n",
              "2  n1WpP7iowLc  ...  Great Britain\n",
              "3  PUTEiSjKwJU  ...  Great Britain\n",
              "4  rHwDegptbI4  ...  Great Britain\n",
              "\n",
              "[5 rows x 17 columns]"
            ]
          },
          "metadata": {
            "tags": []
          },
          "execution_count": 7
        }
      ]
    },
    {
      "cell_type": "markdown",
      "metadata": {
        "id": "6RaEBxqPrgEs",
        "colab_type": "text"
      },
      "source": [
        "**Read JSON from Category of GB Dataset**"
      ]
    },
    {
      "cell_type": "code",
      "metadata": {
        "id": "UIrwpZz6IoIg",
        "colab_type": "code",
        "outputId": "e5f1720a-1f6b-4eff-a526-5586f3719913",
        "colab": {
          "base_uri": "https://localhost:8080/",
          "height": 197
        }
      },
      "source": [
        "with open('GB_category_id.json') as df_gb_category_id:\n",
        "    gb_category = json.load(df_gb_category_id)\n",
        "dataframe_gb_category = json_normalize(gb_category['items'])\n",
        "select_feature_gb_category = ['id', 'snippet.title']\n",
        "df_gb_category = dataframe_gb_category[select_feature_gb_category]\n",
        "df_gb_category = df_gb_category.rename(columns={\"id\":\"category_id\", \"snippet.title\":\"category_title\"})\n",
        "df_gb_category.head()"
      ],
      "execution_count": 8,
      "outputs": [
        {
          "output_type": "execute_result",
          "data": {
            "text/html": [
              "<div>\n",
              "<style scoped>\n",
              "    .dataframe tbody tr th:only-of-type {\n",
              "        vertical-align: middle;\n",
              "    }\n",
              "\n",
              "    .dataframe tbody tr th {\n",
              "        vertical-align: top;\n",
              "    }\n",
              "\n",
              "    .dataframe thead th {\n",
              "        text-align: right;\n",
              "    }\n",
              "</style>\n",
              "<table border=\"1\" class=\"dataframe\">\n",
              "  <thead>\n",
              "    <tr style=\"text-align: right;\">\n",
              "      <th></th>\n",
              "      <th>category_id</th>\n",
              "      <th>category_title</th>\n",
              "    </tr>\n",
              "  </thead>\n",
              "  <tbody>\n",
              "    <tr>\n",
              "      <th>0</th>\n",
              "      <td>1</td>\n",
              "      <td>Film &amp; Animation</td>\n",
              "    </tr>\n",
              "    <tr>\n",
              "      <th>1</th>\n",
              "      <td>2</td>\n",
              "      <td>Autos &amp; Vehicles</td>\n",
              "    </tr>\n",
              "    <tr>\n",
              "      <th>2</th>\n",
              "      <td>10</td>\n",
              "      <td>Music</td>\n",
              "    </tr>\n",
              "    <tr>\n",
              "      <th>3</th>\n",
              "      <td>15</td>\n",
              "      <td>Pets &amp; Animals</td>\n",
              "    </tr>\n",
              "    <tr>\n",
              "      <th>4</th>\n",
              "      <td>17</td>\n",
              "      <td>Sports</td>\n",
              "    </tr>\n",
              "  </tbody>\n",
              "</table>\n",
              "</div>"
            ],
            "text/plain": [
              "  category_id    category_title\n",
              "0           1  Film & Animation\n",
              "1           2  Autos & Vehicles\n",
              "2          10             Music\n",
              "3          15    Pets & Animals\n",
              "4          17            Sports"
            ]
          },
          "metadata": {
            "tags": []
          },
          "execution_count": 8
        }
      ]
    },
    {
      "cell_type": "markdown",
      "metadata": {
        "id": "tGAHVUf2rrHs",
        "colab_type": "text"
      },
      "source": [
        "**Read CSV Category US dan GB**"
      ]
    },
    {
      "cell_type": "code",
      "metadata": {
        "id": "i9TrrNYhrx-f",
        "colab_type": "code",
        "colab": {}
      },
      "source": [
        "df_us_category = pd.read_csv('us_category.csv')\n",
        "df_gb_category = pd.read_csv('gb_category.csv')"
      ],
      "execution_count": 0,
      "outputs": []
    },
    {
      "cell_type": "markdown",
      "metadata": {
        "id": "TtBYTwEZsKon",
        "colab_type": "text"
      },
      "source": [
        "## **US Videos**"
      ]
    },
    {
      "cell_type": "code",
      "metadata": {
        "id": "w9bDGvx0I8ta",
        "colab_type": "code",
        "colab": {}
      },
      "source": [
        "# df_us_category['category_id'] = df_us_category['category_id'].apply(int)\n",
        "df_us = pd.merge(df_us, df_us_category, on=['category_id'])\n",
        "sort_columns = ['video_id', 'channel_title', 'title', 'category_id', 'category_title', 'tags', 'description', 'views', 'likes', 'dislikes', 'thumbnail_link', 'country']"
      ],
      "execution_count": 0,
      "outputs": []
    },
    {
      "cell_type": "code",
      "metadata": {
        "id": "qlJeFwDIXA5l",
        "colab_type": "code",
        "outputId": "81d2ae57-8b7f-4fb7-a60b-744b1e663a38",
        "colab": {
          "base_uri": "https://localhost:8080/",
          "height": 467
        }
      },
      "source": [
        "df_us = df_us[sort_columns]\n",
        "df_us.head()"
      ],
      "execution_count": 11,
      "outputs": [
        {
          "output_type": "execute_result",
          "data": {
            "text/html": [
              "<div>\n",
              "<style scoped>\n",
              "    .dataframe tbody tr th:only-of-type {\n",
              "        vertical-align: middle;\n",
              "    }\n",
              "\n",
              "    .dataframe tbody tr th {\n",
              "        vertical-align: top;\n",
              "    }\n",
              "\n",
              "    .dataframe thead th {\n",
              "        text-align: right;\n",
              "    }\n",
              "</style>\n",
              "<table border=\"1\" class=\"dataframe\">\n",
              "  <thead>\n",
              "    <tr style=\"text-align: right;\">\n",
              "      <th></th>\n",
              "      <th>video_id</th>\n",
              "      <th>channel_title</th>\n",
              "      <th>title</th>\n",
              "      <th>category_id</th>\n",
              "      <th>category_title</th>\n",
              "      <th>tags</th>\n",
              "      <th>description</th>\n",
              "      <th>views</th>\n",
              "      <th>likes</th>\n",
              "      <th>dislikes</th>\n",
              "      <th>thumbnail_link</th>\n",
              "      <th>country</th>\n",
              "    </tr>\n",
              "  </thead>\n",
              "  <tbody>\n",
              "    <tr>\n",
              "      <th>0</th>\n",
              "      <td>2kyS6SvSYSE</td>\n",
              "      <td>CaseyNeistat</td>\n",
              "      <td>WE WANT TO TALK ABOUT OUR MARRIAGE</td>\n",
              "      <td>22</td>\n",
              "      <td>People &amp; Blogs</td>\n",
              "      <td>SHANtell martin</td>\n",
              "      <td>SHANTELL'S CHANNEL - https://www.youtube.com/s...</td>\n",
              "      <td>748374</td>\n",
              "      <td>57527</td>\n",
              "      <td>2966</td>\n",
              "      <td>https://i.ytimg.com/vi/2kyS6SvSYSE/default.jpg</td>\n",
              "      <td>USA</td>\n",
              "    </tr>\n",
              "    <tr>\n",
              "      <th>1</th>\n",
              "      <td>0mlNzVSJrT0</td>\n",
              "      <td>Nobrand</td>\n",
              "      <td>Me-O Cats Commercial</td>\n",
              "      <td>22</td>\n",
              "      <td>People &amp; Blogs</td>\n",
              "      <td>cute|\"cats\"|\"thai\"|\"eggs\"</td>\n",
              "      <td>Kittens come out of the eggs in a Thai commerc...</td>\n",
              "      <td>98966</td>\n",
              "      <td>2486</td>\n",
              "      <td>184</td>\n",
              "      <td>https://i.ytimg.com/vi/0mlNzVSJrT0/default.jpg</td>\n",
              "      <td>USA</td>\n",
              "    </tr>\n",
              "    <tr>\n",
              "      <th>2</th>\n",
              "      <td>STI2fI7sKMo</td>\n",
              "      <td>Shawn Johnson East</td>\n",
              "      <td>AFFAIRS, EX BOYFRIENDS, $18MILLION NET WORTH -...</td>\n",
              "      <td>22</td>\n",
              "      <td>People &amp; Blogs</td>\n",
              "      <td>shawn johnson|\"andrew east\"|\"shawn east\"|\"shaw...</td>\n",
              "      <td>Subscribe for weekly videos ▶ http://bit.ly/sj...</td>\n",
              "      <td>321053</td>\n",
              "      <td>4451</td>\n",
              "      <td>1772</td>\n",
              "      <td>https://i.ytimg.com/vi/STI2fI7sKMo/default.jpg</td>\n",
              "      <td>USA</td>\n",
              "    </tr>\n",
              "    <tr>\n",
              "      <th>3</th>\n",
              "      <td>KODzih-pYlU</td>\n",
              "      <td>Grace Helbig</td>\n",
              "      <td>BLIND(folded) CAKE DECORATING CONTEST (with Mo...</td>\n",
              "      <td>22</td>\n",
              "      <td>People &amp; Blogs</td>\n",
              "      <td>itsgrace|\"funny\"|\"comedy\"|\"vlog\"|\"grace\"|\"helb...</td>\n",
              "      <td>Molly is an god damn amazing human and she cha...</td>\n",
              "      <td>197062</td>\n",
              "      <td>7250</td>\n",
              "      <td>217</td>\n",
              "      <td>https://i.ytimg.com/vi/KODzih-pYlU/default.jpg</td>\n",
              "      <td>USA</td>\n",
              "    </tr>\n",
              "    <tr>\n",
              "      <th>4</th>\n",
              "      <td>8mhTWqWlQzU</td>\n",
              "      <td>Safiya Nygaard</td>\n",
              "      <td>Wearing Online Dollar Store Makeup For A Week</td>\n",
              "      <td>22</td>\n",
              "      <td>People &amp; Blogs</td>\n",
              "      <td>wearing online dollar store makeup for a week|...</td>\n",
              "      <td>I found this online dollar store called ShopMi...</td>\n",
              "      <td>2744430</td>\n",
              "      <td>115426</td>\n",
              "      <td>1110</td>\n",
              "      <td>https://i.ytimg.com/vi/8mhTWqWlQzU/default.jpg</td>\n",
              "      <td>USA</td>\n",
              "    </tr>\n",
              "  </tbody>\n",
              "</table>\n",
              "</div>"
            ],
            "text/plain": [
              "      video_id  ... country\n",
              "0  2kyS6SvSYSE  ...     USA\n",
              "1  0mlNzVSJrT0  ...     USA\n",
              "2  STI2fI7sKMo  ...     USA\n",
              "3  KODzih-pYlU  ...     USA\n",
              "4  8mhTWqWlQzU  ...     USA\n",
              "\n",
              "[5 rows x 12 columns]"
            ]
          },
          "metadata": {
            "tags": []
          },
          "execution_count": 11
        }
      ]
    },
    {
      "cell_type": "markdown",
      "metadata": {
        "id": "x0AwqSb8RFOV",
        "colab_type": "text"
      },
      "source": [
        "## **GB Videos**"
      ]
    },
    {
      "cell_type": "code",
      "metadata": {
        "id": "UDrQJfzeJxbx",
        "colab_type": "code",
        "colab": {}
      },
      "source": [
        "# df_gb_category['category_id'] = df_gb_category['category_id'].apply(int)\n",
        "df_gb = pd.merge(df_gb, df_gb_category, on=['category_id'])\n",
        "sort_columns = ['video_id', 'channel_title', 'title', 'category_id', 'category_title', 'tags', 'description', 'views', 'likes', 'dislikes', 'thumbnail_link', 'country']"
      ],
      "execution_count": 0,
      "outputs": []
    },
    {
      "cell_type": "code",
      "metadata": {
        "id": "z0HxaaqHXGe4",
        "colab_type": "code",
        "outputId": "9a79696f-086f-4c8b-bd0f-0d5b77057d34",
        "colab": {
          "base_uri": "https://localhost:8080/",
          "height": 367
        }
      },
      "source": [
        "df_gb = df_gb[sort_columns]\n",
        "df_gb.head()"
      ],
      "execution_count": 13,
      "outputs": [
        {
          "output_type": "execute_result",
          "data": {
            "text/html": [
              "<div>\n",
              "<style scoped>\n",
              "    .dataframe tbody tr th:only-of-type {\n",
              "        vertical-align: middle;\n",
              "    }\n",
              "\n",
              "    .dataframe tbody tr th {\n",
              "        vertical-align: top;\n",
              "    }\n",
              "\n",
              "    .dataframe thead th {\n",
              "        text-align: right;\n",
              "    }\n",
              "</style>\n",
              "<table border=\"1\" class=\"dataframe\">\n",
              "  <thead>\n",
              "    <tr style=\"text-align: right;\">\n",
              "      <th></th>\n",
              "      <th>video_id</th>\n",
              "      <th>channel_title</th>\n",
              "      <th>title</th>\n",
              "      <th>category_id</th>\n",
              "      <th>category_title</th>\n",
              "      <th>tags</th>\n",
              "      <th>description</th>\n",
              "      <th>views</th>\n",
              "      <th>likes</th>\n",
              "      <th>dislikes</th>\n",
              "      <th>thumbnail_link</th>\n",
              "      <th>country</th>\n",
              "    </tr>\n",
              "  </thead>\n",
              "  <tbody>\n",
              "    <tr>\n",
              "      <th>0</th>\n",
              "      <td>Jw1Y-zhQURU</td>\n",
              "      <td>John Lewis</td>\n",
              "      <td>John Lewis Christmas Ad 2017 - #MozTheMonster</td>\n",
              "      <td>26</td>\n",
              "      <td>Howto &amp; Style</td>\n",
              "      <td>christmas|\"john lewis christmas\"|\"john lewis\"|...</td>\n",
              "      <td>Click here to continue the story and make your...</td>\n",
              "      <td>7224515</td>\n",
              "      <td>55681</td>\n",
              "      <td>10247</td>\n",
              "      <td>https://i.ytimg.com/vi/Jw1Y-zhQURU/default.jpg</td>\n",
              "      <td>Great Britain</td>\n",
              "    </tr>\n",
              "    <tr>\n",
              "      <th>1</th>\n",
              "      <td>MyEqfBkzESU</td>\n",
              "      <td>John Maclean</td>\n",
              "      <td>EXTREME GOLDEN TAN TRANSFORMATION</td>\n",
              "      <td>26</td>\n",
              "      <td>Howto &amp; Style</td>\n",
              "      <td>Extreme Tan|\"Tanning\"|\"Tanning Bed\"|\"How to ge...</td>\n",
              "      <td>-\\n\\n\\nWebsite - http://www.johnmaclean.co.uk\\...</td>\n",
              "      <td>300617</td>\n",
              "      <td>8133</td>\n",
              "      <td>2693</td>\n",
              "      <td>https://i.ytimg.com/vi/MyEqfBkzESU/default.jpg</td>\n",
              "      <td>Great Britain</td>\n",
              "    </tr>\n",
              "    <tr>\n",
              "      <th>2</th>\n",
              "      <td>b4vTZx_AtHk</td>\n",
              "      <td>HowToBasic</td>\n",
              "      <td>How To Dry a Shirt in 30 Seconds</td>\n",
              "      <td>26</td>\n",
              "      <td>Howto &amp; Style</td>\n",
              "      <td>how to dry a shirt in 30 seconds|\"how to dry a...</td>\n",
              "      <td>Today I show you how to completely dry a shirt...</td>\n",
              "      <td>2063667</td>\n",
              "      <td>98804</td>\n",
              "      <td>11682</td>\n",
              "      <td>https://i.ytimg.com/vi/b4vTZx_AtHk/default.jpg</td>\n",
              "      <td>Great Britain</td>\n",
              "    </tr>\n",
              "    <tr>\n",
              "      <th>3</th>\n",
              "      <td>OWvCCu2t6Ts</td>\n",
              "      <td>Sprinkleofglitter</td>\n",
              "      <td>SO Much To Tell You | 32 Weeks Pregnant | MOTH...</td>\n",
              "      <td>26</td>\n",
              "      <td>Howto &amp; Style</td>\n",
              "      <td>sprinkleofglitter|\"sprinkle of glitter\"|\"Louis...</td>\n",
              "      <td>A big chat about everything going on in my pre...</td>\n",
              "      <td>238843</td>\n",
              "      <td>10028</td>\n",
              "      <td>248</td>\n",
              "      <td>https://i.ytimg.com/vi/OWvCCu2t6Ts/default.jpg</td>\n",
              "      <td>Great Britain</td>\n",
              "    </tr>\n",
              "    <tr>\n",
              "      <th>4</th>\n",
              "      <td>9GqL1DSQDL0</td>\n",
              "      <td>makeupbymichaelfinch</td>\n",
              "      <td>GET READY WITH ME + LILY! (we're so immature bye)</td>\n",
              "      <td>26</td>\n",
              "      <td>Howto &amp; Style</td>\n",
              "      <td>Lily brown|\"michael finch\"|\"makeupbymichaelfin...</td>\n",
              "      <td>Hey babes! Happy Friday! It's the WEEKENDDD He...</td>\n",
              "      <td>332967</td>\n",
              "      <td>22303</td>\n",
              "      <td>700</td>\n",
              "      <td>https://i.ytimg.com/vi/9GqL1DSQDL0/default.jpg</td>\n",
              "      <td>Great Britain</td>\n",
              "    </tr>\n",
              "  </tbody>\n",
              "</table>\n",
              "</div>"
            ],
            "text/plain": [
              "      video_id  ...        country\n",
              "0  Jw1Y-zhQURU  ...  Great Britain\n",
              "1  MyEqfBkzESU  ...  Great Britain\n",
              "2  b4vTZx_AtHk  ...  Great Britain\n",
              "3  OWvCCu2t6Ts  ...  Great Britain\n",
              "4  9GqL1DSQDL0  ...  Great Britain\n",
              "\n",
              "[5 rows x 12 columns]"
            ]
          },
          "metadata": {
            "tags": []
          },
          "execution_count": 13
        }
      ]
    },
    {
      "cell_type": "markdown",
      "metadata": {
        "id": "m4QfxfQqALVc",
        "colab_type": "text"
      },
      "source": [
        "## **Combine Data US and GB**"
      ]
    },
    {
      "cell_type": "code",
      "metadata": {
        "id": "dCNb-Yx3d_sT",
        "colab_type": "code",
        "outputId": "e8b80c48-9668-4edb-8925-9662ef568b7a",
        "colab": {
          "base_uri": "https://localhost:8080/",
          "height": 843
        }
      },
      "source": [
        "data_youtube = pd.concat([df_us, df_gb])\n",
        "sort_columns = ['video_id', 'channel_title', 'title', 'category_id', 'category_title', 'tags', 'description', 'views', 'likes', 'dislikes', 'thumbnail_link', 'country']\n",
        "data_youtube = data_youtube[sort_columns]\n",
        "data_youtube"
      ],
      "execution_count": 14,
      "outputs": [
        {
          "output_type": "execute_result",
          "data": {
            "text/html": [
              "<div>\n",
              "<style scoped>\n",
              "    .dataframe tbody tr th:only-of-type {\n",
              "        vertical-align: middle;\n",
              "    }\n",
              "\n",
              "    .dataframe tbody tr th {\n",
              "        vertical-align: top;\n",
              "    }\n",
              "\n",
              "    .dataframe thead th {\n",
              "        text-align: right;\n",
              "    }\n",
              "</style>\n",
              "<table border=\"1\" class=\"dataframe\">\n",
              "  <thead>\n",
              "    <tr style=\"text-align: right;\">\n",
              "      <th></th>\n",
              "      <th>video_id</th>\n",
              "      <th>channel_title</th>\n",
              "      <th>title</th>\n",
              "      <th>category_id</th>\n",
              "      <th>category_title</th>\n",
              "      <th>tags</th>\n",
              "      <th>description</th>\n",
              "      <th>views</th>\n",
              "      <th>likes</th>\n",
              "      <th>dislikes</th>\n",
              "      <th>thumbnail_link</th>\n",
              "      <th>country</th>\n",
              "    </tr>\n",
              "  </thead>\n",
              "  <tbody>\n",
              "    <tr>\n",
              "      <th>0</th>\n",
              "      <td>2kyS6SvSYSE</td>\n",
              "      <td>CaseyNeistat</td>\n",
              "      <td>WE WANT TO TALK ABOUT OUR MARRIAGE</td>\n",
              "      <td>22</td>\n",
              "      <td>People &amp; Blogs</td>\n",
              "      <td>SHANtell martin</td>\n",
              "      <td>SHANTELL'S CHANNEL - https://www.youtube.com/s...</td>\n",
              "      <td>748374</td>\n",
              "      <td>57527</td>\n",
              "      <td>2966</td>\n",
              "      <td>https://i.ytimg.com/vi/2kyS6SvSYSE/default.jpg</td>\n",
              "      <td>USA</td>\n",
              "    </tr>\n",
              "    <tr>\n",
              "      <th>1</th>\n",
              "      <td>0mlNzVSJrT0</td>\n",
              "      <td>Nobrand</td>\n",
              "      <td>Me-O Cats Commercial</td>\n",
              "      <td>22</td>\n",
              "      <td>People &amp; Blogs</td>\n",
              "      <td>cute|\"cats\"|\"thai\"|\"eggs\"</td>\n",
              "      <td>Kittens come out of the eggs in a Thai commerc...</td>\n",
              "      <td>98966</td>\n",
              "      <td>2486</td>\n",
              "      <td>184</td>\n",
              "      <td>https://i.ytimg.com/vi/0mlNzVSJrT0/default.jpg</td>\n",
              "      <td>USA</td>\n",
              "    </tr>\n",
              "    <tr>\n",
              "      <th>2</th>\n",
              "      <td>STI2fI7sKMo</td>\n",
              "      <td>Shawn Johnson East</td>\n",
              "      <td>AFFAIRS, EX BOYFRIENDS, $18MILLION NET WORTH -...</td>\n",
              "      <td>22</td>\n",
              "      <td>People &amp; Blogs</td>\n",
              "      <td>shawn johnson|\"andrew east\"|\"shawn east\"|\"shaw...</td>\n",
              "      <td>Subscribe for weekly videos ▶ http://bit.ly/sj...</td>\n",
              "      <td>321053</td>\n",
              "      <td>4451</td>\n",
              "      <td>1772</td>\n",
              "      <td>https://i.ytimg.com/vi/STI2fI7sKMo/default.jpg</td>\n",
              "      <td>USA</td>\n",
              "    </tr>\n",
              "    <tr>\n",
              "      <th>3</th>\n",
              "      <td>KODzih-pYlU</td>\n",
              "      <td>Grace Helbig</td>\n",
              "      <td>BLIND(folded) CAKE DECORATING CONTEST (with Mo...</td>\n",
              "      <td>22</td>\n",
              "      <td>People &amp; Blogs</td>\n",
              "      <td>itsgrace|\"funny\"|\"comedy\"|\"vlog\"|\"grace\"|\"helb...</td>\n",
              "      <td>Molly is an god damn amazing human and she cha...</td>\n",
              "      <td>197062</td>\n",
              "      <td>7250</td>\n",
              "      <td>217</td>\n",
              "      <td>https://i.ytimg.com/vi/KODzih-pYlU/default.jpg</td>\n",
              "      <td>USA</td>\n",
              "    </tr>\n",
              "    <tr>\n",
              "      <th>4</th>\n",
              "      <td>8mhTWqWlQzU</td>\n",
              "      <td>Safiya Nygaard</td>\n",
              "      <td>Wearing Online Dollar Store Makeup For A Week</td>\n",
              "      <td>22</td>\n",
              "      <td>People &amp; Blogs</td>\n",
              "      <td>wearing online dollar store makeup for a week|...</td>\n",
              "      <td>I found this online dollar store called ShopMi...</td>\n",
              "      <td>2744430</td>\n",
              "      <td>115426</td>\n",
              "      <td>1110</td>\n",
              "      <td>https://i.ytimg.com/vi/8mhTWqWlQzU/default.jpg</td>\n",
              "      <td>USA</td>\n",
              "    </tr>\n",
              "    <tr>\n",
              "      <th>...</th>\n",
              "      <td>...</td>\n",
              "      <td>...</td>\n",
              "      <td>...</td>\n",
              "      <td>...</td>\n",
              "      <td>...</td>\n",
              "      <td>...</td>\n",
              "      <td>...</td>\n",
              "      <td>...</td>\n",
              "      <td>...</td>\n",
              "      <td>...</td>\n",
              "      <td>...</td>\n",
              "      <td>...</td>\n",
              "    </tr>\n",
              "    <tr>\n",
              "      <th>38821</th>\n",
              "      <td>JtIY1Naxg0M</td>\n",
              "      <td>Bleacher Report</td>\n",
              "      <td>Game of Zones - S5E7: NBA 1K</td>\n",
              "      <td>43</td>\n",
              "      <td>Shows</td>\n",
              "      <td>bleacher report|\"br\"|\"nba\"|\"philadelphia 76ers...</td>\n",
              "      <td>NBA rookies are roasting each other over a gam...</td>\n",
              "      <td>1664981</td>\n",
              "      <td>44245</td>\n",
              "      <td>357</td>\n",
              "      <td>https://i.ytimg.com/vi/JtIY1Naxg0M/default.jpg</td>\n",
              "      <td>Great Britain</td>\n",
              "    </tr>\n",
              "    <tr>\n",
              "      <th>38822</th>\n",
              "      <td>JtIY1Naxg0M</td>\n",
              "      <td>Bleacher Report</td>\n",
              "      <td>Game of Zones - S5E7: NBA 1K</td>\n",
              "      <td>43</td>\n",
              "      <td>Shows</td>\n",
              "      <td>bleacher report|\"br\"|\"nba\"|\"philadelphia 76ers...</td>\n",
              "      <td>NBA rookies are roasting each other over a gam...</td>\n",
              "      <td>1673959</td>\n",
              "      <td>44316</td>\n",
              "      <td>357</td>\n",
              "      <td>https://i.ytimg.com/vi/JtIY1Naxg0M/default.jpg</td>\n",
              "      <td>Great Britain</td>\n",
              "    </tr>\n",
              "    <tr>\n",
              "      <th>38823</th>\n",
              "      <td>JtIY1Naxg0M</td>\n",
              "      <td>Bleacher Report</td>\n",
              "      <td>Game of Zones - S5E7: NBA 1K</td>\n",
              "      <td>43</td>\n",
              "      <td>Shows</td>\n",
              "      <td>bleacher report|\"br\"|\"nba\"|\"philadelphia 76ers...</td>\n",
              "      <td>NBA rookies are roasting each other over a gam...</td>\n",
              "      <td>1686873</td>\n",
              "      <td>44434</td>\n",
              "      <td>360</td>\n",
              "      <td>https://i.ytimg.com/vi/JtIY1Naxg0M/default.jpg</td>\n",
              "      <td>Great Britain</td>\n",
              "    </tr>\n",
              "    <tr>\n",
              "      <th>38824</th>\n",
              "      <td>JtIY1Naxg0M</td>\n",
              "      <td>Bleacher Report</td>\n",
              "      <td>Game of Zones - S5E7: NBA 1K</td>\n",
              "      <td>43</td>\n",
              "      <td>Shows</td>\n",
              "      <td>bleacher report|\"br\"|\"nba\"|\"philadelphia 76ers...</td>\n",
              "      <td>NBA rookies are roasting each other over a gam...</td>\n",
              "      <td>1699351</td>\n",
              "      <td>44506</td>\n",
              "      <td>361</td>\n",
              "      <td>https://i.ytimg.com/vi/JtIY1Naxg0M/default.jpg</td>\n",
              "      <td>Great Britain</td>\n",
              "    </tr>\n",
              "    <tr>\n",
              "      <th>38825</th>\n",
              "      <td>JtIY1Naxg0M</td>\n",
              "      <td>Bleacher Report</td>\n",
              "      <td>Game of Zones - S5E7: NBA 1K</td>\n",
              "      <td>43</td>\n",
              "      <td>Shows</td>\n",
              "      <td>bleacher report|\"br\"|\"nba\"|\"philadelphia 76ers...</td>\n",
              "      <td>NBA rookies are roasting each other over a gam...</td>\n",
              "      <td>1709880</td>\n",
              "      <td>44588</td>\n",
              "      <td>360</td>\n",
              "      <td>https://i.ytimg.com/vi/JtIY1Naxg0M/default.jpg</td>\n",
              "      <td>Great Britain</td>\n",
              "    </tr>\n",
              "  </tbody>\n",
              "</table>\n",
              "<p>79775 rows × 12 columns</p>\n",
              "</div>"
            ],
            "text/plain": [
              "          video_id  ...        country\n",
              "0      2kyS6SvSYSE  ...            USA\n",
              "1      0mlNzVSJrT0  ...            USA\n",
              "2      STI2fI7sKMo  ...            USA\n",
              "3      KODzih-pYlU  ...            USA\n",
              "4      8mhTWqWlQzU  ...            USA\n",
              "...            ...  ...            ...\n",
              "38821  JtIY1Naxg0M  ...  Great Britain\n",
              "38822  JtIY1Naxg0M  ...  Great Britain\n",
              "38823  JtIY1Naxg0M  ...  Great Britain\n",
              "38824  JtIY1Naxg0M  ...  Great Britain\n",
              "38825  JtIY1Naxg0M  ...  Great Britain\n",
              "\n",
              "[79775 rows x 12 columns]"
            ]
          },
          "metadata": {
            "tags": []
          },
          "execution_count": 14
        }
      ]
    },
    {
      "cell_type": "markdown",
      "metadata": {
        "id": "WVqQb2FWgBYx",
        "colab_type": "text"
      },
      "source": [
        "## **Text Processing**"
      ]
    },
    {
      "cell_type": "markdown",
      "metadata": {
        "id": "XivkxSAvMo_l",
        "colab_type": "text"
      },
      "source": [
        "**Check Missing Value**"
      ]
    },
    {
      "cell_type": "code",
      "metadata": {
        "id": "Erl0K-6nHD8i",
        "colab_type": "code",
        "outputId": "f2430458-5a82-4d3c-ac6b-7b570a0230a2",
        "colab": {
          "base_uri": "https://localhost:8080/",
          "height": 34
        }
      },
      "source": [
        "data_youtube.columns[data_youtube.isna().any()].tolist()"
      ],
      "execution_count": 15,
      "outputs": [
        {
          "output_type": "execute_result",
          "data": {
            "text/plain": [
              "['description']"
            ]
          },
          "metadata": {
            "tags": []
          },
          "execution_count": 15
        }
      ]
    },
    {
      "cell_type": "code",
      "metadata": {
        "id": "ZnJ7LgKvBF7L",
        "colab_type": "code",
        "outputId": "0f0355fc-113b-4ed9-f3ea-049d0e57a66c",
        "colab": {
          "base_uri": "https://localhost:8080/",
          "height": 247
        }
      },
      "source": [
        "data_youtube.isnull().sum()"
      ],
      "execution_count": 16,
      "outputs": [
        {
          "output_type": "execute_result",
          "data": {
            "text/plain": [
              "video_id             0\n",
              "channel_title        0\n",
              "title                0\n",
              "category_id          0\n",
              "category_title       0\n",
              "tags                 0\n",
              "description       1130\n",
              "views                0\n",
              "likes                0\n",
              "dislikes             0\n",
              "thumbnail_link       0\n",
              "country              0\n",
              "dtype: int64"
            ]
          },
          "metadata": {
            "tags": []
          },
          "execution_count": 16
        }
      ]
    },
    {
      "cell_type": "markdown",
      "metadata": {
        "id": "ZpfulFFQNp6e",
        "colab_type": "text"
      },
      "source": [
        "**Fill the NAN Column using fillna**"
      ]
    },
    {
      "cell_type": "code",
      "metadata": {
        "id": "rRkf3-NyJijL",
        "colab_type": "code",
        "colab": {}
      },
      "source": [
        "data_youtube['description'].fillna(\"No Description\", inplace=True)"
      ],
      "execution_count": 0,
      "outputs": []
    },
    {
      "cell_type": "markdown",
      "metadata": {
        "id": "m1ne_k5tN0Z-",
        "colab_type": "text"
      },
      "source": [
        "**Check the missing value again**"
      ]
    },
    {
      "cell_type": "code",
      "metadata": {
        "id": "11l6OCXCKZ5x",
        "colab_type": "code",
        "outputId": "e8f0f21f-671c-4c67-bda4-ea46861e9687",
        "colab": {
          "base_uri": "https://localhost:8080/",
          "height": 34
        }
      },
      "source": [
        "data_youtube.columns[data_youtube.isna().any()].tolist()"
      ],
      "execution_count": 18,
      "outputs": [
        {
          "output_type": "execute_result",
          "data": {
            "text/plain": [
              "[]"
            ]
          },
          "metadata": {
            "tags": []
          },
          "execution_count": 18
        }
      ]
    },
    {
      "cell_type": "code",
      "metadata": {
        "id": "Z95mNjELNglD",
        "colab_type": "code",
        "outputId": "f4de364c-5169-4ac8-b7a4-d5074ad608b3",
        "colab": {
          "base_uri": "https://localhost:8080/",
          "height": 247
        }
      },
      "source": [
        "data_youtube.isnull().sum()"
      ],
      "execution_count": 19,
      "outputs": [
        {
          "output_type": "execute_result",
          "data": {
            "text/plain": [
              "video_id          0\n",
              "channel_title     0\n",
              "title             0\n",
              "category_id       0\n",
              "category_title    0\n",
              "tags              0\n",
              "description       0\n",
              "views             0\n",
              "likes             0\n",
              "dislikes          0\n",
              "thumbnail_link    0\n",
              "country           0\n",
              "dtype: int64"
            ]
          },
          "metadata": {
            "tags": []
          },
          "execution_count": 19
        }
      ]
    },
    {
      "cell_type": "code",
      "metadata": {
        "id": "xGU9P7ixMQ0E",
        "colab_type": "code",
        "outputId": "a79cca36-8b93-4bc8-be2d-5605e3cbd4ee",
        "colab": {
          "base_uri": "https://localhost:8080/",
          "height": 34
        }
      },
      "source": [
        "data_youtube.shape"
      ],
      "execution_count": 20,
      "outputs": [
        {
          "output_type": "execute_result",
          "data": {
            "text/plain": [
              "(79775, 12)"
            ]
          },
          "metadata": {
            "tags": []
          },
          "execution_count": 20
        }
      ]
    },
    {
      "cell_type": "code",
      "metadata": {
        "id": "4P3Z9_NSqRct",
        "colab_type": "code",
        "outputId": "4c1a9f22-2a98-4896-ab12-c3a96f530df8",
        "colab": {
          "base_uri": "https://localhost:8080/",
          "height": 717
        }
      },
      "source": [
        "data_youtube.tail(5)"
      ],
      "execution_count": 21,
      "outputs": [
        {
          "output_type": "execute_result",
          "data": {
            "text/html": [
              "<div>\n",
              "<style scoped>\n",
              "    .dataframe tbody tr th:only-of-type {\n",
              "        vertical-align: middle;\n",
              "    }\n",
              "\n",
              "    .dataframe tbody tr th {\n",
              "        vertical-align: top;\n",
              "    }\n",
              "\n",
              "    .dataframe thead th {\n",
              "        text-align: right;\n",
              "    }\n",
              "</style>\n",
              "<table border=\"1\" class=\"dataframe\">\n",
              "  <thead>\n",
              "    <tr style=\"text-align: right;\">\n",
              "      <th></th>\n",
              "      <th>video_id</th>\n",
              "      <th>channel_title</th>\n",
              "      <th>title</th>\n",
              "      <th>category_id</th>\n",
              "      <th>category_title</th>\n",
              "      <th>tags</th>\n",
              "      <th>description</th>\n",
              "      <th>views</th>\n",
              "      <th>likes</th>\n",
              "      <th>dislikes</th>\n",
              "      <th>thumbnail_link</th>\n",
              "      <th>country</th>\n",
              "    </tr>\n",
              "  </thead>\n",
              "  <tbody>\n",
              "    <tr>\n",
              "      <th>38821</th>\n",
              "      <td>JtIY1Naxg0M</td>\n",
              "      <td>Bleacher Report</td>\n",
              "      <td>Game of Zones - S5E7: NBA 1K</td>\n",
              "      <td>43</td>\n",
              "      <td>Shows</td>\n",
              "      <td>bleacher report|\"br\"|\"nba\"|\"philadelphia 76ers...</td>\n",
              "      <td>NBA rookies are roasting each other over a gam...</td>\n",
              "      <td>1664981</td>\n",
              "      <td>44245</td>\n",
              "      <td>357</td>\n",
              "      <td>https://i.ytimg.com/vi/JtIY1Naxg0M/default.jpg</td>\n",
              "      <td>Great Britain</td>\n",
              "    </tr>\n",
              "    <tr>\n",
              "      <th>38822</th>\n",
              "      <td>JtIY1Naxg0M</td>\n",
              "      <td>Bleacher Report</td>\n",
              "      <td>Game of Zones - S5E7: NBA 1K</td>\n",
              "      <td>43</td>\n",
              "      <td>Shows</td>\n",
              "      <td>bleacher report|\"br\"|\"nba\"|\"philadelphia 76ers...</td>\n",
              "      <td>NBA rookies are roasting each other over a gam...</td>\n",
              "      <td>1673959</td>\n",
              "      <td>44316</td>\n",
              "      <td>357</td>\n",
              "      <td>https://i.ytimg.com/vi/JtIY1Naxg0M/default.jpg</td>\n",
              "      <td>Great Britain</td>\n",
              "    </tr>\n",
              "    <tr>\n",
              "      <th>38823</th>\n",
              "      <td>JtIY1Naxg0M</td>\n",
              "      <td>Bleacher Report</td>\n",
              "      <td>Game of Zones - S5E7: NBA 1K</td>\n",
              "      <td>43</td>\n",
              "      <td>Shows</td>\n",
              "      <td>bleacher report|\"br\"|\"nba\"|\"philadelphia 76ers...</td>\n",
              "      <td>NBA rookies are roasting each other over a gam...</td>\n",
              "      <td>1686873</td>\n",
              "      <td>44434</td>\n",
              "      <td>360</td>\n",
              "      <td>https://i.ytimg.com/vi/JtIY1Naxg0M/default.jpg</td>\n",
              "      <td>Great Britain</td>\n",
              "    </tr>\n",
              "    <tr>\n",
              "      <th>38824</th>\n",
              "      <td>JtIY1Naxg0M</td>\n",
              "      <td>Bleacher Report</td>\n",
              "      <td>Game of Zones - S5E7: NBA 1K</td>\n",
              "      <td>43</td>\n",
              "      <td>Shows</td>\n",
              "      <td>bleacher report|\"br\"|\"nba\"|\"philadelphia 76ers...</td>\n",
              "      <td>NBA rookies are roasting each other over a gam...</td>\n",
              "      <td>1699351</td>\n",
              "      <td>44506</td>\n",
              "      <td>361</td>\n",
              "      <td>https://i.ytimg.com/vi/JtIY1Naxg0M/default.jpg</td>\n",
              "      <td>Great Britain</td>\n",
              "    </tr>\n",
              "    <tr>\n",
              "      <th>38825</th>\n",
              "      <td>JtIY1Naxg0M</td>\n",
              "      <td>Bleacher Report</td>\n",
              "      <td>Game of Zones - S5E7: NBA 1K</td>\n",
              "      <td>43</td>\n",
              "      <td>Shows</td>\n",
              "      <td>bleacher report|\"br\"|\"nba\"|\"philadelphia 76ers...</td>\n",
              "      <td>NBA rookies are roasting each other over a gam...</td>\n",
              "      <td>1709880</td>\n",
              "      <td>44588</td>\n",
              "      <td>360</td>\n",
              "      <td>https://i.ytimg.com/vi/JtIY1Naxg0M/default.jpg</td>\n",
              "      <td>Great Britain</td>\n",
              "    </tr>\n",
              "  </tbody>\n",
              "</table>\n",
              "</div>"
            ],
            "text/plain": [
              "          video_id  ...        country\n",
              "38821  JtIY1Naxg0M  ...  Great Britain\n",
              "38822  JtIY1Naxg0M  ...  Great Britain\n",
              "38823  JtIY1Naxg0M  ...  Great Britain\n",
              "38824  JtIY1Naxg0M  ...  Great Britain\n",
              "38825  JtIY1Naxg0M  ...  Great Britain\n",
              "\n",
              "[5 rows x 12 columns]"
            ]
          },
          "metadata": {
            "tags": []
          },
          "execution_count": 21
        }
      ]
    },
    {
      "cell_type": "markdown",
      "metadata": {
        "id": "lvVj7h2XNDIG",
        "colab_type": "text"
      },
      "source": [
        "**Data Cleaning**"
      ]
    },
    {
      "cell_type": "code",
      "metadata": {
        "id": "LiucDgf7sBCp",
        "colab_type": "code",
        "outputId": "cb9845a2-54f1-4d02-940d-d64b69e36b9d",
        "colab": {
          "base_uri": "https://localhost:8080/",
          "height": 34
        }
      },
      "source": [
        "data_youtube = data_youtube.drop_duplicates(subset='video_id', keep='first')\n",
        "data_youtube.shape"
      ],
      "execution_count": 22,
      "outputs": [
        {
          "output_type": "execute_result",
          "data": {
            "text/plain": [
              "(8602, 12)"
            ]
          },
          "metadata": {
            "tags": []
          },
          "execution_count": 22
        }
      ]
    },
    {
      "cell_type": "code",
      "metadata": {
        "id": "_6iW-fxtvobv",
        "colab_type": "code",
        "outputId": "24257b18-abed-407e-b13c-6fc014791090",
        "colab": {
          "base_uri": "https://localhost:8080/",
          "height": 467
        }
      },
      "source": [
        "data_youtube.head()"
      ],
      "execution_count": 23,
      "outputs": [
        {
          "output_type": "execute_result",
          "data": {
            "text/html": [
              "<div>\n",
              "<style scoped>\n",
              "    .dataframe tbody tr th:only-of-type {\n",
              "        vertical-align: middle;\n",
              "    }\n",
              "\n",
              "    .dataframe tbody tr th {\n",
              "        vertical-align: top;\n",
              "    }\n",
              "\n",
              "    .dataframe thead th {\n",
              "        text-align: right;\n",
              "    }\n",
              "</style>\n",
              "<table border=\"1\" class=\"dataframe\">\n",
              "  <thead>\n",
              "    <tr style=\"text-align: right;\">\n",
              "      <th></th>\n",
              "      <th>video_id</th>\n",
              "      <th>channel_title</th>\n",
              "      <th>title</th>\n",
              "      <th>category_id</th>\n",
              "      <th>category_title</th>\n",
              "      <th>tags</th>\n",
              "      <th>description</th>\n",
              "      <th>views</th>\n",
              "      <th>likes</th>\n",
              "      <th>dislikes</th>\n",
              "      <th>thumbnail_link</th>\n",
              "      <th>country</th>\n",
              "    </tr>\n",
              "  </thead>\n",
              "  <tbody>\n",
              "    <tr>\n",
              "      <th>0</th>\n",
              "      <td>2kyS6SvSYSE</td>\n",
              "      <td>CaseyNeistat</td>\n",
              "      <td>WE WANT TO TALK ABOUT OUR MARRIAGE</td>\n",
              "      <td>22</td>\n",
              "      <td>People &amp; Blogs</td>\n",
              "      <td>SHANtell martin</td>\n",
              "      <td>SHANTELL'S CHANNEL - https://www.youtube.com/s...</td>\n",
              "      <td>748374</td>\n",
              "      <td>57527</td>\n",
              "      <td>2966</td>\n",
              "      <td>https://i.ytimg.com/vi/2kyS6SvSYSE/default.jpg</td>\n",
              "      <td>USA</td>\n",
              "    </tr>\n",
              "    <tr>\n",
              "      <th>1</th>\n",
              "      <td>0mlNzVSJrT0</td>\n",
              "      <td>Nobrand</td>\n",
              "      <td>Me-O Cats Commercial</td>\n",
              "      <td>22</td>\n",
              "      <td>People &amp; Blogs</td>\n",
              "      <td>cute|\"cats\"|\"thai\"|\"eggs\"</td>\n",
              "      <td>Kittens come out of the eggs in a Thai commerc...</td>\n",
              "      <td>98966</td>\n",
              "      <td>2486</td>\n",
              "      <td>184</td>\n",
              "      <td>https://i.ytimg.com/vi/0mlNzVSJrT0/default.jpg</td>\n",
              "      <td>USA</td>\n",
              "    </tr>\n",
              "    <tr>\n",
              "      <th>2</th>\n",
              "      <td>STI2fI7sKMo</td>\n",
              "      <td>Shawn Johnson East</td>\n",
              "      <td>AFFAIRS, EX BOYFRIENDS, $18MILLION NET WORTH -...</td>\n",
              "      <td>22</td>\n",
              "      <td>People &amp; Blogs</td>\n",
              "      <td>shawn johnson|\"andrew east\"|\"shawn east\"|\"shaw...</td>\n",
              "      <td>Subscribe for weekly videos ▶ http://bit.ly/sj...</td>\n",
              "      <td>321053</td>\n",
              "      <td>4451</td>\n",
              "      <td>1772</td>\n",
              "      <td>https://i.ytimg.com/vi/STI2fI7sKMo/default.jpg</td>\n",
              "      <td>USA</td>\n",
              "    </tr>\n",
              "    <tr>\n",
              "      <th>3</th>\n",
              "      <td>KODzih-pYlU</td>\n",
              "      <td>Grace Helbig</td>\n",
              "      <td>BLIND(folded) CAKE DECORATING CONTEST (with Mo...</td>\n",
              "      <td>22</td>\n",
              "      <td>People &amp; Blogs</td>\n",
              "      <td>itsgrace|\"funny\"|\"comedy\"|\"vlog\"|\"grace\"|\"helb...</td>\n",
              "      <td>Molly is an god damn amazing human and she cha...</td>\n",
              "      <td>197062</td>\n",
              "      <td>7250</td>\n",
              "      <td>217</td>\n",
              "      <td>https://i.ytimg.com/vi/KODzih-pYlU/default.jpg</td>\n",
              "      <td>USA</td>\n",
              "    </tr>\n",
              "    <tr>\n",
              "      <th>4</th>\n",
              "      <td>8mhTWqWlQzU</td>\n",
              "      <td>Safiya Nygaard</td>\n",
              "      <td>Wearing Online Dollar Store Makeup For A Week</td>\n",
              "      <td>22</td>\n",
              "      <td>People &amp; Blogs</td>\n",
              "      <td>wearing online dollar store makeup for a week|...</td>\n",
              "      <td>I found this online dollar store called ShopMi...</td>\n",
              "      <td>2744430</td>\n",
              "      <td>115426</td>\n",
              "      <td>1110</td>\n",
              "      <td>https://i.ytimg.com/vi/8mhTWqWlQzU/default.jpg</td>\n",
              "      <td>USA</td>\n",
              "    </tr>\n",
              "  </tbody>\n",
              "</table>\n",
              "</div>"
            ],
            "text/plain": [
              "      video_id  ... country\n",
              "0  2kyS6SvSYSE  ...     USA\n",
              "1  0mlNzVSJrT0  ...     USA\n",
              "2  STI2fI7sKMo  ...     USA\n",
              "3  KODzih-pYlU  ...     USA\n",
              "4  8mhTWqWlQzU  ...     USA\n",
              "\n",
              "[5 rows x 12 columns]"
            ]
          },
          "metadata": {
            "tags": []
          },
          "execution_count": 23
        }
      ]
    },
    {
      "cell_type": "code",
      "metadata": {
        "id": "go4_Y05FxU79",
        "colab_type": "code",
        "colab": {}
      },
      "source": [
        "import re\n",
        "import nltk\n",
        "import spacy\n",
        "import string\n",
        "pd.options.mode.chained_assignment = None"
      ],
      "execution_count": 0,
      "outputs": []
    },
    {
      "cell_type": "code",
      "metadata": {
        "id": "D-Cl9GVkQuOr",
        "colab_type": "code",
        "colab": {}
      },
      "source": [
        "data_youtube['title'] = data_youtube['title'].str.lower()\n",
        "data_youtube['title'] = data_youtube['title'].str.replace('[^\\w\\s]','')\n",
        "data_youtube['description'] = data_youtube['description'].apply(lambda x: re.split('https:\\/\\/.*|http:\\/\\/.*', str(x))[0])\n",
        "data_youtube['description'] = data_youtube['description'].str.lower()\n",
        "data_youtube['description'] = data_youtube['description'].str.replace('[^\\w\\s]','')\n",
        "data_youtube['tags'] = data_youtube['tags'].str.replace('\\\"*(\\|\")',',')\n",
        "data_youtube['tags'] = data_youtube['tags'].str.replace('\\\"','')"
      ],
      "execution_count": 0,
      "outputs": []
    },
    {
      "cell_type": "code",
      "metadata": {
        "id": "jomrTBeXRGw9",
        "colab_type": "code",
        "outputId": "9afd4ada-e562-4893-c17d-5dfa7b499843",
        "colab": {
          "base_uri": "https://localhost:8080/",
          "height": 324
        }
      },
      "source": [
        "data_youtube.head(3)"
      ],
      "execution_count": 26,
      "outputs": [
        {
          "output_type": "execute_result",
          "data": {
            "text/html": [
              "<div>\n",
              "<style scoped>\n",
              "    .dataframe tbody tr th:only-of-type {\n",
              "        vertical-align: middle;\n",
              "    }\n",
              "\n",
              "    .dataframe tbody tr th {\n",
              "        vertical-align: top;\n",
              "    }\n",
              "\n",
              "    .dataframe thead th {\n",
              "        text-align: right;\n",
              "    }\n",
              "</style>\n",
              "<table border=\"1\" class=\"dataframe\">\n",
              "  <thead>\n",
              "    <tr style=\"text-align: right;\">\n",
              "      <th></th>\n",
              "      <th>video_id</th>\n",
              "      <th>channel_title</th>\n",
              "      <th>title</th>\n",
              "      <th>category_id</th>\n",
              "      <th>category_title</th>\n",
              "      <th>tags</th>\n",
              "      <th>description</th>\n",
              "      <th>views</th>\n",
              "      <th>likes</th>\n",
              "      <th>dislikes</th>\n",
              "      <th>thumbnail_link</th>\n",
              "      <th>country</th>\n",
              "    </tr>\n",
              "  </thead>\n",
              "  <tbody>\n",
              "    <tr>\n",
              "      <th>0</th>\n",
              "      <td>2kyS6SvSYSE</td>\n",
              "      <td>CaseyNeistat</td>\n",
              "      <td>we want to talk about our marriage</td>\n",
              "      <td>22</td>\n",
              "      <td>People &amp; Blogs</td>\n",
              "      <td>SHANtell martin</td>\n",
              "      <td>shantells channel</td>\n",
              "      <td>748374</td>\n",
              "      <td>57527</td>\n",
              "      <td>2966</td>\n",
              "      <td>https://i.ytimg.com/vi/2kyS6SvSYSE/default.jpg</td>\n",
              "      <td>USA</td>\n",
              "    </tr>\n",
              "    <tr>\n",
              "      <th>1</th>\n",
              "      <td>0mlNzVSJrT0</td>\n",
              "      <td>Nobrand</td>\n",
              "      <td>meo cats commercial</td>\n",
              "      <td>22</td>\n",
              "      <td>People &amp; Blogs</td>\n",
              "      <td>cute,cats,thai,eggs</td>\n",
              "      <td>kittens come out of the eggs in a thai commerc...</td>\n",
              "      <td>98966</td>\n",
              "      <td>2486</td>\n",
              "      <td>184</td>\n",
              "      <td>https://i.ytimg.com/vi/0mlNzVSJrT0/default.jpg</td>\n",
              "      <td>USA</td>\n",
              "    </tr>\n",
              "    <tr>\n",
              "      <th>2</th>\n",
              "      <td>STI2fI7sKMo</td>\n",
              "      <td>Shawn Johnson East</td>\n",
              "      <td>affairs ex boyfriends 18million net worth  goo...</td>\n",
              "      <td>22</td>\n",
              "      <td>People &amp; Blogs</td>\n",
              "      <td>shawn johnson,andrew east,shawn east,shawn and...</td>\n",
              "      <td>subscribe for weekly videos</td>\n",
              "      <td>321053</td>\n",
              "      <td>4451</td>\n",
              "      <td>1772</td>\n",
              "      <td>https://i.ytimg.com/vi/STI2fI7sKMo/default.jpg</td>\n",
              "      <td>USA</td>\n",
              "    </tr>\n",
              "  </tbody>\n",
              "</table>\n",
              "</div>"
            ],
            "text/plain": [
              "      video_id  ... country\n",
              "0  2kyS6SvSYSE  ...     USA\n",
              "1  0mlNzVSJrT0  ...     USA\n",
              "2  STI2fI7sKMo  ...     USA\n",
              "\n",
              "[3 rows x 12 columns]"
            ]
          },
          "metadata": {
            "tags": []
          },
          "execution_count": 26
        }
      ]
    },
    {
      "cell_type": "markdown",
      "metadata": {
        "id": "7HUrHPpRFKgu",
        "colab_type": "text"
      },
      "source": [
        "**TFIDF**"
      ]
    },
    {
      "cell_type": "code",
      "metadata": {
        "id": "o1xfXdK7FeTf",
        "colab_type": "code",
        "colab": {}
      },
      "source": [
        "selected_features = ['channel_title', 'title', 'category_title', 'tags', 'description', 'country']\n",
        "data_youtube = data_youtube[selected_features]"
      ],
      "execution_count": 0,
      "outputs": []
    },
    {
      "cell_type": "code",
      "metadata": {
        "id": "ES0zehmCFvV-",
        "colab_type": "code",
        "colab": {
          "base_uri": "https://localhost:8080/",
          "height": 197
        },
        "outputId": "9ff69adf-6d23-4670-95a2-42d327555850"
      },
      "source": [
        "data_youtube.head()"
      ],
      "execution_count": 28,
      "outputs": [
        {
          "output_type": "execute_result",
          "data": {
            "text/html": [
              "<div>\n",
              "<style scoped>\n",
              "    .dataframe tbody tr th:only-of-type {\n",
              "        vertical-align: middle;\n",
              "    }\n",
              "\n",
              "    .dataframe tbody tr th {\n",
              "        vertical-align: top;\n",
              "    }\n",
              "\n",
              "    .dataframe thead th {\n",
              "        text-align: right;\n",
              "    }\n",
              "</style>\n",
              "<table border=\"1\" class=\"dataframe\">\n",
              "  <thead>\n",
              "    <tr style=\"text-align: right;\">\n",
              "      <th></th>\n",
              "      <th>channel_title</th>\n",
              "      <th>title</th>\n",
              "      <th>category_title</th>\n",
              "      <th>tags</th>\n",
              "      <th>description</th>\n",
              "      <th>country</th>\n",
              "    </tr>\n",
              "  </thead>\n",
              "  <tbody>\n",
              "    <tr>\n",
              "      <th>0</th>\n",
              "      <td>CaseyNeistat</td>\n",
              "      <td>we want to talk about our marriage</td>\n",
              "      <td>People &amp; Blogs</td>\n",
              "      <td>SHANtell martin</td>\n",
              "      <td>shantells channel</td>\n",
              "      <td>USA</td>\n",
              "    </tr>\n",
              "    <tr>\n",
              "      <th>1</th>\n",
              "      <td>Nobrand</td>\n",
              "      <td>meo cats commercial</td>\n",
              "      <td>People &amp; Blogs</td>\n",
              "      <td>cute,cats,thai,eggs</td>\n",
              "      <td>kittens come out of the eggs in a thai commerc...</td>\n",
              "      <td>USA</td>\n",
              "    </tr>\n",
              "    <tr>\n",
              "      <th>2</th>\n",
              "      <td>Shawn Johnson East</td>\n",
              "      <td>affairs ex boyfriends 18million net worth  goo...</td>\n",
              "      <td>People &amp; Blogs</td>\n",
              "      <td>shawn johnson,andrew east,shawn east,shawn and...</td>\n",
              "      <td>subscribe for weekly videos</td>\n",
              "      <td>USA</td>\n",
              "    </tr>\n",
              "    <tr>\n",
              "      <th>3</th>\n",
              "      <td>Grace Helbig</td>\n",
              "      <td>blindfolded cake decorating contest with molly...</td>\n",
              "      <td>People &amp; Blogs</td>\n",
              "      <td>itsgrace,funny,comedy,vlog,grace,helbig,graceh...</td>\n",
              "      <td>molly is an god damn amazing human and she cha...</td>\n",
              "      <td>USA</td>\n",
              "    </tr>\n",
              "    <tr>\n",
              "      <th>4</th>\n",
              "      <td>Safiya Nygaard</td>\n",
              "      <td>wearing online dollar store makeup for a week</td>\n",
              "      <td>People &amp; Blogs</td>\n",
              "      <td>wearing online dollar store makeup for a week,...</td>\n",
              "      <td>i found this online dollar store called shopmi...</td>\n",
              "      <td>USA</td>\n",
              "    </tr>\n",
              "  </tbody>\n",
              "</table>\n",
              "</div>"
            ],
            "text/plain": [
              "        channel_title  ... country\n",
              "0        CaseyNeistat  ...     USA\n",
              "1             Nobrand  ...     USA\n",
              "2  Shawn Johnson East  ...     USA\n",
              "3        Grace Helbig  ...     USA\n",
              "4      Safiya Nygaard  ...     USA\n",
              "\n",
              "[5 rows x 6 columns]"
            ]
          },
          "metadata": {
            "tags": []
          },
          "execution_count": 28
        }
      ]
    },
    {
      "cell_type": "markdown",
      "metadata": {
        "id": "EtKKPjGiF8N_",
        "colab_type": "text"
      },
      "source": [
        "Test 1 (Title and Description)"
      ]
    },
    {
      "cell_type": "code",
      "metadata": {
        "id": "0PR5DECYF19H",
        "colab_type": "code",
        "colab": {}
      },
      "source": [
        "data_youtube.reset_index(inplace=True)"
      ],
      "execution_count": 0,
      "outputs": []
    },
    {
      "cell_type": "code",
      "metadata": {
        "id": "18vrSjL2GM5T",
        "colab_type": "code",
        "colab": {
          "base_uri": "https://localhost:8080/",
          "height": 34
        },
        "outputId": "15498de3-13a2-409d-87a7-fd38bc0303ea"
      },
      "source": [
        "from sklearn.feature_extraction.text import TfidfVectorizer\n",
        "tfidf = TfidfVectorizer(stop_words='english')\n",
        "tfidf_matrix = tfidf.fit_transform(data_youtube['description'])\n",
        "tfidf_matrix.shape"
      ],
      "execution_count": 30,
      "outputs": [
        {
          "output_type": "execute_result",
          "data": {
            "text/plain": [
              "(8602, 38552)"
            ]
          },
          "metadata": {
            "tags": []
          },
          "execution_count": 30
        }
      ]
    },
    {
      "cell_type": "code",
      "metadata": {
        "id": "l9f0PFBxGS4E",
        "colab_type": "code",
        "colab": {}
      },
      "source": [
        "from sklearn.metrics.pairwise import linear_kernel\n",
        "cosine_sim = linear_kernel(tfidf_matrix, tfidf_matrix)"
      ],
      "execution_count": 0,
      "outputs": []
    },
    {
      "cell_type": "code",
      "metadata": {
        "id": "xLtGcl1bGXfT",
        "colab_type": "code",
        "colab": {
          "base_uri": "https://localhost:8080/",
          "height": 247
        },
        "outputId": "bab3c285-3633-4c61-b7e1-4e8248eb5e11"
      },
      "source": [
        "indices = pd.Series(data_youtube.index, index=data_youtube['title']).drop_duplicates()\n",
        "indices"
      ],
      "execution_count": 32,
      "outputs": [
        {
          "output_type": "execute_result",
          "data": {
            "text/plain": [
              "title\n",
              "we want to talk about our marriage                                                                   0\n",
              "meo cats commercial                                                                                  1\n",
              "affairs ex boyfriends 18million net worth  google us  shawn and andrew                               2\n",
              "blindfolded cake decorating contest with molly burke  grace helbig                                   3\n",
              "wearing online dollar store makeup for a week                                                        4\n",
              "                                                                                                  ... \n",
              "nikuman  magic japanese steam buns                                                                8597\n",
              "wild about argyll                                                                                 8598\n",
              "shane macgowan  nick cave  summer in siam  the wild mountain thyme  shanes 60th birthday party    8599\n",
              "tourism australia dundee super bowl ad 2018 w chris hemsworth and danny mcbride extended          8600\n",
              "i love japan                                                                                      8601\n",
              "Length: 8602, dtype: int64"
            ]
          },
          "metadata": {
            "tags": []
          },
          "execution_count": 32
        }
      ]
    },
    {
      "cell_type": "code",
      "metadata": {
        "id": "Z_6uscOtGg-n",
        "colab_type": "code",
        "colab": {}
      },
      "source": [
        "def recommendations(title, cosine_sim=cosine_sim):\n",
        "    idx = indices[title]\n",
        "    sim_scores = list(enumerate(cosine_sim[idx]))\n",
        "    sim_scores = sorted(sim_scores, key=lambda x: x[1], reverse=True)\n",
        "    sim_scores = sim_scores[1:6]\n",
        "    data_youtube_indices = [i[0] for i in sim_scores]\n",
        "    return data_youtube['title'].iloc[data_youtube_indices]"
      ],
      "execution_count": 0,
      "outputs": []
    },
    {
      "cell_type": "code",
      "metadata": {
        "id": "x3ZBBKE1GsCF",
        "colab_type": "code",
        "colab": {
          "base_uri": "https://localhost:8080/",
          "height": 123
        },
        "outputId": "a25e4bf9-1f25-4200-cb8c-44d23bf1ba5d"
      },
      "source": [
        "recommendations(\"wearing online dollar store makeup for a week\")"
      ],
      "execution_count": 34,
      "outputs": [
        {
          "output_type": "execute_result",
          "data": {
            "text/plain": [
              "381      i bought a full face of makeup from facebook ads\n",
              "7966                i tried a full face of 7eleven makeup\n",
              "6455    valentines day makeup tutorial glowing date ma...\n",
              "58      lets talk money  everyday smokey eye tutorial ...\n",
              "6093               how my makeup looks under a microscope\n",
              "Name: title, dtype: object"
            ]
          },
          "metadata": {
            "tags": []
          },
          "execution_count": 34
        }
      ]
    },
    {
      "cell_type": "code",
      "metadata": {
        "id": "PVi1J3N0Gu3q",
        "colab_type": "code",
        "colab": {
          "base_uri": "https://localhost:8080/",
          "height": 158
        },
        "outputId": "0271639a-16e9-40b3-f258-9ee3a1052ad5"
      },
      "source": [
        "data_youtube.iloc[381]"
      ],
      "execution_count": 36,
      "outputs": [
        {
          "output_type": "execute_result",
          "data": {
            "text/plain": [
              "index                                                          2028\n",
              "channel_title                                        Safiya Nygaard\n",
              "title              i bought a full face of makeup from facebook ads\n",
              "category_title                                       People & Blogs\n",
              "tags              i bought a full face of makeup from facebook a...\n",
              "description       so after buying the first 5 things from differ...\n",
              "country                                                         USA\n",
              "Name: 381, dtype: object"
            ]
          },
          "metadata": {
            "tags": []
          },
          "execution_count": 36
        }
      ]
    },
    {
      "cell_type": "markdown",
      "metadata": {
        "id": "PfeWdroZGBC1",
        "colab_type": "text"
      },
      "source": [
        "Test2 (Title and Category Title)"
      ]
    },
    {
      "cell_type": "code",
      "metadata": {
        "id": "N2Y0SFh0G5Lu",
        "colab_type": "code",
        "colab": {
          "base_uri": "https://localhost:8080/",
          "height": 34
        },
        "outputId": "8246c56d-7b9b-4c96-e82f-4448cb84fcf7"
      },
      "source": [
        "tfidf1 = TfidfVectorizer(stop_words='english')\n",
        "tfidf_matrix1 = tfidf1.fit_transform(data_youtube['category_title'])\n",
        "tfidf_matrix1.shape"
      ],
      "execution_count": 37,
      "outputs": [
        {
          "output_type": "execute_result",
          "data": {
            "text/plain": [
              "(8602, 25)"
            ]
          },
          "metadata": {
            "tags": []
          },
          "execution_count": 37
        }
      ]
    },
    {
      "cell_type": "code",
      "metadata": {
        "id": "E8c5SrVWG9T3",
        "colab_type": "code",
        "colab": {}
      },
      "source": [
        "cosine_sim1 = linear_kernel(tfidf_matrix1, tfidf_matrix1)"
      ],
      "execution_count": 0,
      "outputs": []
    },
    {
      "cell_type": "code",
      "metadata": {
        "id": "x7XydADXHAjQ",
        "colab_type": "code",
        "colab": {
          "base_uri": "https://localhost:8080/",
          "height": 247
        },
        "outputId": "7b7ffc05-d70a-4295-b171-d1c1a7895cd0"
      },
      "source": [
        "indices1 = pd.Series(data_youtube.index, index=data_youtube['title']).drop_duplicates()\n",
        "indices1"
      ],
      "execution_count": 40,
      "outputs": [
        {
          "output_type": "execute_result",
          "data": {
            "text/plain": [
              "title\n",
              "we want to talk about our marriage                                                                   0\n",
              "meo cats commercial                                                                                  1\n",
              "affairs ex boyfriends 18million net worth  google us  shawn and andrew                               2\n",
              "blindfolded cake decorating contest with molly burke  grace helbig                                   3\n",
              "wearing online dollar store makeup for a week                                                        4\n",
              "                                                                                                  ... \n",
              "nikuman  magic japanese steam buns                                                                8597\n",
              "wild about argyll                                                                                 8598\n",
              "shane macgowan  nick cave  summer in siam  the wild mountain thyme  shanes 60th birthday party    8599\n",
              "tourism australia dundee super bowl ad 2018 w chris hemsworth and danny mcbride extended          8600\n",
              "i love japan                                                                                      8601\n",
              "Length: 8602, dtype: int64"
            ]
          },
          "metadata": {
            "tags": []
          },
          "execution_count": 40
        }
      ]
    },
    {
      "cell_type": "code",
      "metadata": {
        "id": "cuqL1zSyHHHo",
        "colab_type": "code",
        "colab": {}
      },
      "source": [
        "def recommendations1(title, cosine_sim=cosine_sim1):\n",
        "    idx = indices[title]\n",
        "    sim_scores = list(enumerate(cosine_sim[idx]))\n",
        "    sim_scores = sorted(sim_scores, key=lambda x: x[1], reverse=True)\n",
        "    sim_scores = sim_scores[1:11]\n",
        "    data_youtube_indices = [i[0] for i in sim_scores]\n",
        "    return data_youtube['title'].iloc[data_youtube_indices]"
      ],
      "execution_count": 0,
      "outputs": []
    },
    {
      "cell_type": "code",
      "metadata": {
        "id": "LR0jihW3HM7d",
        "colab_type": "code",
        "colab": {
          "base_uri": "https://localhost:8080/",
          "height": 212
        },
        "outputId": "1a8c0da9-05b6-43c4-b8b2-de13abed2964"
      },
      "source": [
        "recommendations1(\"affairs ex boyfriends 18million net worth  google us  shawn and andrew\")"
      ],
      "execution_count": 42,
      "outputs": [
        {
          "output_type": "execute_result",
          "data": {
            "text/plain": [
              "1                                   meo cats commercial\n",
              "2     affairs ex boyfriends 18million net worth  goo...\n",
              "3     blindfolded cake decorating contest with molly...\n",
              "4         wearing online dollar store makeup for a week\n",
              "5            mark ruffalo reads hilarious thirst tweets\n",
              "6                idiots guide to japanese squat toilets\n",
              "7     russian bots and trolls  november 8 2017 act 2...\n",
              "8           the ultimate red lip look  nicole guerriero\n",
              "9              could anastasia become a disney princess\n",
              "10                           mdna skin express yourself\n",
              "Name: title, dtype: object"
            ]
          },
          "metadata": {
            "tags": []
          },
          "execution_count": 42
        }
      ]
    },
    {
      "cell_type": "code",
      "metadata": {
        "id": "IvhP_YEGHPzM",
        "colab_type": "code",
        "colab": {
          "base_uri": "https://localhost:8080/",
          "height": 158
        },
        "outputId": "252488f7-750b-422a-98e6-dfe346da2549"
      },
      "source": [
        "data_youtube.iloc[5]"
      ],
      "execution_count": 44,
      "outputs": [
        {
          "output_type": "execute_result",
          "data": {
            "text/plain": [
              "index                                                             5\n",
              "channel_title                                        BuzzFeed Celeb\n",
              "title                    mark ruffalo reads hilarious thirst tweets\n",
              "category_title                                       People & Blogs\n",
              "tags              BuzzFeed,buzzfeed celeb,Mark Ruffalo,Thor,Ragn...\n",
              "description                           im justim flatterednncredits \n",
              "country                                                         USA\n",
              "Name: 5, dtype: object"
            ]
          },
          "metadata": {
            "tags": []
          },
          "execution_count": 44
        }
      ]
    },
    {
      "cell_type": "code",
      "metadata": {
        "id": "zIXofPP-HSBv",
        "colab_type": "code",
        "colab": {}
      },
      "source": [
        ""
      ],
      "execution_count": 0,
      "outputs": []
    }
  ]
}